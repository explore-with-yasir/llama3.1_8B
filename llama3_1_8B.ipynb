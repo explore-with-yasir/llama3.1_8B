{
 "cells": [
  {
   "cell_type": "markdown",
   "id": "85e747e4",
   "metadata": {},
   "source": [
    "Llama3.1 8B Model usage on local"
   ]
  },
  {
   "cell_type": "code",
   "execution_count": null,
   "id": "469ca697",
   "metadata": {
    "vscode": {
     "languageId": "plaintext"
    }
   },
   "outputs": [],
   "source": [
    "!pip install transformers, torch"
   ]
  },
  {
   "cell_type": "code",
   "execution_count": null,
   "id": "8a5d909d",
   "metadata": {
    "vscode": {
     "languageId": "plaintext"
    }
   },
   "outputs": [],
   "source": [
    "from transformers import AutoTokenizer, AutoModelForCausalLM\n",
    "import torch\n",
    "\n",
    "# Hugging Face Access Token (replace with your own)\n",
    "access_token = ''\n",
    "\n",
    "# Model ID from Hugging Face Hub\n",
    "model_id = \"meta-llama/Meta-Llama-3.1-8B-Instruct\"\n",
    "\n",
    "# Load tokenizer and model from Hugging Face Hub (requires access token)\n",
    "tokenizer = AutoTokenizer.from_pretrained(model_id, token=access_token)\n",
    "model = AutoModelForCausalLM.from_pretrained(model_id, token=access_token)\n",
    "\n",
    "# Move the model to GPU if available, otherwise CPU\n",
    "if torch.cuda.is_available():\n",
    "    model = model.to(\"cuda\")\n",
    "else:\n",
    "    model = model.to(\"cpu\")\n",
    "\n",
    "# Define conversation termination tokens\n",
    "terminators = [\n",
    "    tokenizer.eos_token_id,  # End-of-sentence token\n",
    "    tokenizer.convert_tokens_to_ids(\"<|eot_id|>\"),  # Custom end-of-conversation token\n",
    "]\n",
    "\n",
    "# Maximum allowed input token length\n",
    "MAX_INPUT_TOKEN_LENGTH = 4096"
   ]
  },
  {
   "cell_type": "code",
   "execution_count": null,
   "id": "0aaacec7",
   "metadata": {
    "vscode": {
     "languageId": "plaintext"
    }
   },
   "outputs": [],
   "source": [
    "def generate_text(message, history=[], temperature=0.7, max_new_tokens=256, system=\"\"):\n",
    "    \"\"\"Generates text based on the given prompt and conversation history.\n",
    "\n",
    "    Args:\n",
    "        message: The user's prompt.\n",
    "        history: A list of tuples containing user and assistant messages.\n",
    "        temperature: Controls randomness in generation.\n",
    "        max_new_tokens: Maximum number of tokens to generate.\n",
    "        system: Optional system prompt.\n",
    "\n",
    "    Returns:\n",
    "        The generated text.\n",
    "    \"\"\"\n",
    "\n",
    "    conversation = []\n",
    "    if system:\n",
    "        conversation.append({\"role\": \"system\", \"content\": system})\n",
    "\n",
    "    for user, assistant in zip(*history):\n",
    "        conversation.extend([{\"role\": \"user\", \"content\": user}, {\"role\": \"assistant\", \"content\": assistant}])\n",
    "    conversation.append({\"role\": \"user\", \"content\": message})\n",
    "\n",
    "    input_ids = tokenizer.apply_chat_template(conversation, return_tensors=\"pt\")\n",
    "\n",
    "    if input_ids.shape[1] > MAX_INPUT_TOKEN_LENGTH:\n",
    "        input_ids = input_ids[:, -MAX_INPUT_TOKEN_LENGTH:]   \n",
    "\n",
    "\n",
    "    input_ids = input_ids.to(model.device)   \n",
    "\n",
    "\n",
    "    generate_kwargs = {\n",
    "        \"input_ids\": input_ids,\n",
    "        \"max_length\": max_new_tokens + input_ids.shape[1],  # Adjust for total length\n",
    "        \"do_sample\": temperature != 0,  # Use sampling for non-zero temperature (randomness)\n",
    "        \"temperature\": temperature,\n",
    "        \"eos_token_id\": terminators,  # Specify tokens to stop generation\n",
    "    }\n",
    "\n",
    "    output = model.generate(**generate_kwargs)[0]\n",
    "    response = tokenizer.decode(output, skip_special_tokens=True)\n",
    "\n",
    "    return response"
   ]
  },
  {
   "cell_type": "code",
   "execution_count": null,
   "id": "426e59ed",
   "metadata": {
    "vscode": {
     "languageId": "plaintext"
    }
   },
   "outputs": [],
   "source": [
    "# Example usage:\n",
    "message = \"Hello, how are you?\"\n",
    "history = [(\"How is the weather today?\", \"It's sunny.\")]\n",
    "response = generate_text(message, history)\n",
    "print(response)"
   ]
  }
 ],
 "metadata": {
  "kernelspec": {
   "display_name": "Python 3 (ipykernel)",
   "language": "python",
   "name": "python3"
  },
  "language_info": {
   "codemirror_mode": {
    "name": "ipython",
    "version": 3
   },
   "file_extension": ".py",
   "mimetype": "text/x-python",
   "name": "python",
   "nbconvert_exporter": "python",
   "pygments_lexer": "ipython3",
   "version": "3.10.12"
  }
 },
 "nbformat": 4,
 "nbformat_minor": 5
}
